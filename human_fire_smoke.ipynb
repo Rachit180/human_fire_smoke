{
  "nbformat": 4,
  "nbformat_minor": 0,
  "metadata": {
    "colab": {
      "provenance": [],
      "gpuType": "T4",
      "include_colab_link": true
    },
    "kernelspec": {
      "name": "python3",
      "display_name": "Python 3"
    },
    "language_info": {
      "name": "python"
    },
    "accelerator": "GPU"
  },
  "cells": [
    {
      "cell_type": "markdown",
      "metadata": {
        "id": "view-in-github",
        "colab_type": "text"
      },
      "source": [
        "<a href=\"https://colab.research.google.com/github/Rachit180/human_fire_smoke/blob/main/human_fire_smoke.ipynb\" target=\"_parent\"><img src=\"https://colab.research.google.com/assets/colab-badge.svg\" alt=\"Open In Colab\"/></a>"
      ]
    },
    {
      "cell_type": "code",
      "execution_count": null,
      "metadata": {
        "colab": {
          "base_uri": "https://localhost:8080/",
          "height": 1000
        },
        "id": "Bp9mJSaEt0KZ",
        "outputId": "6a8465ae-328e-4ff6-d3ec-c4480b55d567"
      },
      "outputs": [
        {
          "output_type": "stream",
          "name": "stdout",
          "text": [
            "Collecting roboflow\n",
            "  Downloading roboflow-1.1.5-py3-none-any.whl (58 kB)\n",
            "\u001b[?25l     \u001b[90m━━━━━━━━━━━━━━━━━━━━━━━━━━━━━━━━━━━━━━━━\u001b[0m \u001b[32m0.0/58.5 kB\u001b[0m \u001b[31m?\u001b[0m eta \u001b[36m-:--:--\u001b[0m\r\u001b[2K     \u001b[90m━━━━━━━━━━━━━━━━━━━━━━━━━━━━━━━━━━━━━━━━\u001b[0m \u001b[32m58.5/58.5 kB\u001b[0m \u001b[31m2.1 MB/s\u001b[0m eta \u001b[36m0:00:00\u001b[0m\n",
            "\u001b[?25hCollecting certifi==2022.12.7 (from roboflow)\n",
            "  Downloading certifi-2022.12.7-py3-none-any.whl (155 kB)\n",
            "\u001b[2K     \u001b[90m━━━━━━━━━━━━━━━━━━━━━━━━━━━━━━━━━━━━━━━\u001b[0m \u001b[32m155.3/155.3 kB\u001b[0m \u001b[31m9.5 MB/s\u001b[0m eta \u001b[36m0:00:00\u001b[0m\n",
            "\u001b[?25hCollecting chardet==4.0.0 (from roboflow)\n",
            "  Downloading chardet-4.0.0-py2.py3-none-any.whl (178 kB)\n",
            "\u001b[2K     \u001b[90m━━━━━━━━━━━━━━━━━━━━━━━━━━━━━━━━━━━━━━\u001b[0m \u001b[32m178.7/178.7 kB\u001b[0m \u001b[31m25.3 MB/s\u001b[0m eta \u001b[36m0:00:00\u001b[0m\n",
            "\u001b[?25hCollecting cycler==0.10.0 (from roboflow)\n",
            "  Downloading cycler-0.10.0-py2.py3-none-any.whl (6.5 kB)\n",
            "Collecting idna==2.10 (from roboflow)\n",
            "  Downloading idna-2.10-py2.py3-none-any.whl (58 kB)\n",
            "\u001b[2K     \u001b[90m━━━━━━━━━━━━━━━━━━━━━━━━━━━━━━━━━━━━━━━━\u001b[0m \u001b[32m58.8/58.8 kB\u001b[0m \u001b[31m8.7 MB/s\u001b[0m eta \u001b[36m0:00:00\u001b[0m\n",
            "\u001b[?25hRequirement already satisfied: kiwisolver>=1.3.1 in /usr/local/lib/python3.10/dist-packages (from roboflow) (1.4.5)\n",
            "Requirement already satisfied: matplotlib in /usr/local/lib/python3.10/dist-packages (from roboflow) (3.7.1)\n",
            "Requirement already satisfied: numpy>=1.18.5 in /usr/local/lib/python3.10/dist-packages (from roboflow) (1.23.5)\n",
            "Collecting opencv-python-headless==4.8.0.74 (from roboflow)\n",
            "  Downloading opencv_python_headless-4.8.0.74-cp37-abi3-manylinux_2_17_x86_64.manylinux2014_x86_64.whl (49.1 MB)\n",
            "\u001b[2K     \u001b[90m━━━━━━━━━━━━━━━━━━━━━━━━━━━━━━━━━━━━━━━━\u001b[0m \u001b[32m49.1/49.1 MB\u001b[0m \u001b[31m18.4 MB/s\u001b[0m eta \u001b[36m0:00:00\u001b[0m\n",
            "\u001b[?25hRequirement already satisfied: Pillow>=7.1.2 in /usr/local/lib/python3.10/dist-packages (from roboflow) (9.4.0)\n",
            "Collecting pyparsing==2.4.7 (from roboflow)\n",
            "  Downloading pyparsing-2.4.7-py2.py3-none-any.whl (67 kB)\n",
            "\u001b[2K     \u001b[90m━━━━━━━━━━━━━━━━━━━━━━━━━━━━━━━━━━━━━━━━\u001b[0m \u001b[32m67.8/67.8 kB\u001b[0m \u001b[31m9.6 MB/s\u001b[0m eta \u001b[36m0:00:00\u001b[0m\n",
            "\u001b[?25hRequirement already satisfied: python-dateutil in /usr/local/lib/python3.10/dist-packages (from roboflow) (2.8.2)\n",
            "Collecting python-dotenv (from roboflow)\n",
            "  Downloading python_dotenv-1.0.0-py3-none-any.whl (19 kB)\n",
            "Requirement already satisfied: requests in /usr/local/lib/python3.10/dist-packages (from roboflow) (2.31.0)\n",
            "Requirement already satisfied: six in /usr/local/lib/python3.10/dist-packages (from roboflow) (1.16.0)\n",
            "Collecting supervision (from roboflow)\n",
            "  Downloading supervision-0.14.0-py3-none-any.whl (63 kB)\n",
            "\u001b[2K     \u001b[90m━━━━━━━━━━━━━━━━━━━━━━━━━━━━━━━━━━━━━━━━\u001b[0m \u001b[32m63.3/63.3 kB\u001b[0m \u001b[31m6.8 MB/s\u001b[0m eta \u001b[36m0:00:00\u001b[0m\n",
            "\u001b[?25hRequirement already satisfied: urllib3>=1.26.6 in /usr/local/lib/python3.10/dist-packages (from roboflow) (2.0.4)\n",
            "Requirement already satisfied: tqdm>=4.41.0 in /usr/local/lib/python3.10/dist-packages (from roboflow) (4.66.1)\n",
            "Requirement already satisfied: PyYAML>=5.3.1 in /usr/local/lib/python3.10/dist-packages (from roboflow) (6.0.1)\n",
            "Collecting requests-toolbelt (from roboflow)\n",
            "  Downloading requests_toolbelt-1.0.0-py2.py3-none-any.whl (54 kB)\n",
            "\u001b[2K     \u001b[90m━━━━━━━━━━━━━━━━━━━━━━━━━━━━━━━━━━━━━━━━\u001b[0m \u001b[32m54.5/54.5 kB\u001b[0m \u001b[31m8.5 MB/s\u001b[0m eta \u001b[36m0:00:00\u001b[0m\n",
            "\u001b[?25hRequirement already satisfied: contourpy>=1.0.1 in /usr/local/lib/python3.10/dist-packages (from matplotlib->roboflow) (1.1.0)\n",
            "Requirement already satisfied: fonttools>=4.22.0 in /usr/local/lib/python3.10/dist-packages (from matplotlib->roboflow) (4.42.1)\n",
            "Requirement already satisfied: packaging>=20.0 in /usr/local/lib/python3.10/dist-packages (from matplotlib->roboflow) (23.1)\n",
            "Requirement already satisfied: charset-normalizer<4,>=2 in /usr/local/lib/python3.10/dist-packages (from requests->roboflow) (3.2.0)\n",
            "Requirement already satisfied: scipy<2.0.0,>=1.9.0 in /usr/local/lib/python3.10/dist-packages (from supervision->roboflow) (1.10.1)\n",
            "Installing collected packages: python-dotenv, pyparsing, opencv-python-headless, idna, cycler, chardet, certifi, supervision, requests-toolbelt, roboflow\n",
            "  Attempting uninstall: pyparsing\n",
            "    Found existing installation: pyparsing 3.1.1\n",
            "    Uninstalling pyparsing-3.1.1:\n",
            "      Successfully uninstalled pyparsing-3.1.1\n",
            "  Attempting uninstall: opencv-python-headless\n",
            "    Found existing installation: opencv-python-headless 4.8.0.76\n",
            "    Uninstalling opencv-python-headless-4.8.0.76:\n",
            "      Successfully uninstalled opencv-python-headless-4.8.0.76\n",
            "  Attempting uninstall: idna\n",
            "    Found existing installation: idna 3.4\n",
            "    Uninstalling idna-3.4:\n",
            "      Successfully uninstalled idna-3.4\n",
            "  Attempting uninstall: cycler\n",
            "    Found existing installation: cycler 0.11.0\n",
            "    Uninstalling cycler-0.11.0:\n",
            "      Successfully uninstalled cycler-0.11.0\n",
            "  Attempting uninstall: chardet\n",
            "    Found existing installation: chardet 5.2.0\n",
            "    Uninstalling chardet-5.2.0:\n",
            "      Successfully uninstalled chardet-5.2.0\n",
            "  Attempting uninstall: certifi\n",
            "    Found existing installation: certifi 2023.7.22\n",
            "    Uninstalling certifi-2023.7.22:\n",
            "      Successfully uninstalled certifi-2023.7.22\n",
            "Successfully installed certifi-2022.12.7 chardet-4.0.0 cycler-0.10.0 idna-2.10 opencv-python-headless-4.8.0.74 pyparsing-2.4.7 python-dotenv-1.0.0 requests-toolbelt-1.0.0 roboflow-1.1.5 supervision-0.14.0\n"
          ]
        },
        {
          "output_type": "display_data",
          "data": {
            "application/vnd.colab-display-data+json": {
              "pip_warning": {
                "packages": [
                  "certifi",
                  "cycler",
                  "pyparsing"
                ]
              }
            }
          },
          "metadata": {}
        },
        {
          "output_type": "stream",
          "name": "stdout",
          "text": [
            "loading Roboflow workspace...\n",
            "loading Roboflow project...\n",
            "[WARNING] we noticed you are downloading a `yolov8` datasets but you don't have `ultralytics` installed. Roboflow `.deploy` supports only models trained with `ultralytics==8.0.134`, to intall it `pip install ultralytics==8.0.134`.\n"
          ]
        },
        {
          "output_type": "stream",
          "name": "stderr",
          "text": [
            "Downloading Dataset Version Zip in Fire-Smoke-and-Human-Detector-31 to yolov8:: 100%|██████████| 2487204/2487204 [00:38<00:00, 64632.77it/s]"
          ]
        },
        {
          "output_type": "stream",
          "name": "stdout",
          "text": [
            "\n"
          ]
        },
        {
          "output_type": "stream",
          "name": "stderr",
          "text": [
            "\n",
            "Extracting Dataset Version Zip to Fire-Smoke-and-Human-Detector-31 in yolov8:: 100%|██████████| 51514/51514 [00:13<00:00, 3819.59it/s]\n"
          ]
        }
      ],
      "source": [
        "!pip install roboflow\n",
        "\n",
        "from roboflow import Roboflow\n",
        "rf = Roboflow(api_key=\"0DEwaE6PfsxGLcbwZSjB\")\n",
        "project = rf.workspace(\"spyrobot\").project(\"fire-smoke-and-human-detector\")\n",
        "dataset = project.version(31).download(\"yolov8\")\n"
      ]
    },
    {
      "cell_type": "code",
      "source": [
        "!pip install ultralytics"
      ],
      "metadata": {
        "colab": {
          "base_uri": "https://localhost:8080/"
        },
        "id": "SjCI6U_RucRe",
        "outputId": "90a2e9a8-9038-4c1e-8921-f6dc6e53c2c2"
      },
      "execution_count": null,
      "outputs": [
        {
          "output_type": "stream",
          "name": "stdout",
          "text": [
            "Collecting ultralytics\n",
            "  Downloading ultralytics-8.0.173-py3-none-any.whl (614 kB)\n",
            "\u001b[?25l     \u001b[90m━━━━━━━━━━━━━━━━━━━━━━━━━━━━━━━━━━━━━━━━\u001b[0m \u001b[32m0.0/614.2 kB\u001b[0m \u001b[31m?\u001b[0m eta \u001b[36m-:--:--\u001b[0m\r\u001b[2K     \u001b[91m━━━━━━━━━━\u001b[0m\u001b[90m╺\u001b[0m\u001b[90m━━━━━━━━━━━━━━━━━━━━━━━━━━━━\u001b[0m \u001b[32m163.8/614.2 kB\u001b[0m \u001b[31m5.0 MB/s\u001b[0m eta \u001b[36m0:00:01\u001b[0m\r\u001b[2K     \u001b[91m━━━━━━━━━━━━━━━━━━━━━━━━━━━━━━━━━━━━━━\u001b[0m\u001b[90m╺\u001b[0m \u001b[32m604.2/614.2 kB\u001b[0m \u001b[31m8.5 MB/s\u001b[0m eta \u001b[36m0:00:01\u001b[0m\r\u001b[2K     \u001b[90m━━━━━━━━━━━━━━━━━━━━━━━━━━━━━━━━━━━━━━━\u001b[0m \u001b[32m614.2/614.2 kB\u001b[0m \u001b[31m7.5 MB/s\u001b[0m eta \u001b[36m0:00:00\u001b[0m\n",
            "\u001b[?25hRequirement already satisfied: matplotlib>=3.2.2 in /usr/local/lib/python3.10/dist-packages (from ultralytics) (3.7.1)\n",
            "Requirement already satisfied: numpy>=1.22.2 in /usr/local/lib/python3.10/dist-packages (from ultralytics) (1.23.5)\n",
            "Requirement already satisfied: opencv-python>=4.6.0 in /usr/local/lib/python3.10/dist-packages (from ultralytics) (4.8.0.76)\n",
            "Requirement already satisfied: pillow>=7.1.2 in /usr/local/lib/python3.10/dist-packages (from ultralytics) (9.4.0)\n",
            "Requirement already satisfied: pyyaml>=5.3.1 in /usr/local/lib/python3.10/dist-packages (from ultralytics) (6.0.1)\n",
            "Requirement already satisfied: requests>=2.23.0 in /usr/local/lib/python3.10/dist-packages (from ultralytics) (2.31.0)\n",
            "Requirement already satisfied: scipy>=1.4.1 in /usr/local/lib/python3.10/dist-packages (from ultralytics) (1.10.1)\n",
            "Requirement already satisfied: torch>=1.8.0 in /usr/local/lib/python3.10/dist-packages (from ultralytics) (2.0.1+cu118)\n",
            "Requirement already satisfied: torchvision>=0.9.0 in /usr/local/lib/python3.10/dist-packages (from ultralytics) (0.15.2+cu118)\n",
            "Requirement already satisfied: tqdm>=4.64.0 in /usr/local/lib/python3.10/dist-packages (from ultralytics) (4.66.1)\n",
            "Requirement already satisfied: pandas>=1.1.4 in /usr/local/lib/python3.10/dist-packages (from ultralytics) (1.5.3)\n",
            "Requirement already satisfied: seaborn>=0.11.0 in /usr/local/lib/python3.10/dist-packages (from ultralytics) (0.12.2)\n",
            "Requirement already satisfied: psutil in /usr/local/lib/python3.10/dist-packages (from ultralytics) (5.9.5)\n",
            "Requirement already satisfied: py-cpuinfo in /usr/local/lib/python3.10/dist-packages (from ultralytics) (9.0.0)\n",
            "Requirement already satisfied: contourpy>=1.0.1 in /usr/local/lib/python3.10/dist-packages (from matplotlib>=3.2.2->ultralytics) (1.1.0)\n",
            "Requirement already satisfied: cycler>=0.10 in /usr/local/lib/python3.10/dist-packages (from matplotlib>=3.2.2->ultralytics) (0.10.0)\n",
            "Requirement already satisfied: fonttools>=4.22.0 in /usr/local/lib/python3.10/dist-packages (from matplotlib>=3.2.2->ultralytics) (4.42.1)\n",
            "Requirement already satisfied: kiwisolver>=1.0.1 in /usr/local/lib/python3.10/dist-packages (from matplotlib>=3.2.2->ultralytics) (1.4.5)\n",
            "Requirement already satisfied: packaging>=20.0 in /usr/local/lib/python3.10/dist-packages (from matplotlib>=3.2.2->ultralytics) (23.1)\n",
            "Requirement already satisfied: pyparsing>=2.3.1 in /usr/local/lib/python3.10/dist-packages (from matplotlib>=3.2.2->ultralytics) (2.4.7)\n",
            "Requirement already satisfied: python-dateutil>=2.7 in /usr/local/lib/python3.10/dist-packages (from matplotlib>=3.2.2->ultralytics) (2.8.2)\n",
            "Requirement already satisfied: pytz>=2020.1 in /usr/local/lib/python3.10/dist-packages (from pandas>=1.1.4->ultralytics) (2023.3.post1)\n",
            "Requirement already satisfied: charset-normalizer<4,>=2 in /usr/local/lib/python3.10/dist-packages (from requests>=2.23.0->ultralytics) (3.2.0)\n",
            "Requirement already satisfied: idna<4,>=2.5 in /usr/local/lib/python3.10/dist-packages (from requests>=2.23.0->ultralytics) (2.10)\n",
            "Requirement already satisfied: urllib3<3,>=1.21.1 in /usr/local/lib/python3.10/dist-packages (from requests>=2.23.0->ultralytics) (2.0.4)\n",
            "Requirement already satisfied: certifi>=2017.4.17 in /usr/local/lib/python3.10/dist-packages (from requests>=2.23.0->ultralytics) (2022.12.7)\n",
            "Requirement already satisfied: filelock in /usr/local/lib/python3.10/dist-packages (from torch>=1.8.0->ultralytics) (3.12.3)\n",
            "Requirement already satisfied: typing-extensions in /usr/local/lib/python3.10/dist-packages (from torch>=1.8.0->ultralytics) (4.7.1)\n",
            "Requirement already satisfied: sympy in /usr/local/lib/python3.10/dist-packages (from torch>=1.8.0->ultralytics) (1.12)\n",
            "Requirement already satisfied: networkx in /usr/local/lib/python3.10/dist-packages (from torch>=1.8.0->ultralytics) (3.1)\n",
            "Requirement already satisfied: jinja2 in /usr/local/lib/python3.10/dist-packages (from torch>=1.8.0->ultralytics) (3.1.2)\n",
            "Requirement already satisfied: triton==2.0.0 in /usr/local/lib/python3.10/dist-packages (from torch>=1.8.0->ultralytics) (2.0.0)\n",
            "Requirement already satisfied: cmake in /usr/local/lib/python3.10/dist-packages (from triton==2.0.0->torch>=1.8.0->ultralytics) (3.27.2)\n",
            "Requirement already satisfied: lit in /usr/local/lib/python3.10/dist-packages (from triton==2.0.0->torch>=1.8.0->ultralytics) (16.0.6)\n",
            "Requirement already satisfied: six in /usr/local/lib/python3.10/dist-packages (from cycler>=0.10->matplotlib>=3.2.2->ultralytics) (1.16.0)\n",
            "Requirement already satisfied: MarkupSafe>=2.0 in /usr/local/lib/python3.10/dist-packages (from jinja2->torch>=1.8.0->ultralytics) (2.1.3)\n",
            "Requirement already satisfied: mpmath>=0.19 in /usr/local/lib/python3.10/dist-packages (from sympy->torch>=1.8.0->ultralytics) (1.3.0)\n",
            "Installing collected packages: ultralytics\n",
            "Successfully installed ultralytics-8.0.173\n"
          ]
        }
      ]
    },
    {
      "cell_type": "code",
      "source": [
        "from IPython import display\n",
        "display.clear_output()\n",
        "\n",
        "import ultralytics\n",
        "ultralytics.checks()"
      ],
      "metadata": {
        "colab": {
          "base_uri": "https://localhost:8080/"
        },
        "id": "28P647u4ufqH",
        "outputId": "72cc88f3-b389-40af-aa51-8c9d93f435c1"
      },
      "execution_count": null,
      "outputs": [
        {
          "output_type": "stream",
          "name": "stderr",
          "text": [
            "Ultralytics YOLOv8.0.173 🚀 Python-3.10.12 torch-2.0.1+cu118 CUDA:0 (Tesla T4, 15102MiB)\n",
            "Setup complete ✅ (2 CPUs, 12.7 GB RAM, 29.0/78.2 GB disk)\n"
          ]
        }
      ]
    },
    {
      "cell_type": "code",
      "source": [
        "%cd /content/Fire-Smoke-and-Human-Detector-31"
      ],
      "metadata": {
        "colab": {
          "base_uri": "https://localhost:8080/"
        },
        "id": "xSPD8JUcujQ0",
        "outputId": "aee41579-c09a-46c0-ef25-310fcb102ed9"
      },
      "execution_count": null,
      "outputs": [
        {
          "output_type": "stream",
          "name": "stdout",
          "text": [
            "/content/Fire-Smoke-and-Human-Detector-31\n"
          ]
        }
      ]
    },
    {
      "cell_type": "code",
      "source": [
        "!yolo task=detect mode=train model=yolov8s.pt data= data.yaml epochs=5 imgsz=640 plots=True"
      ],
      "metadata": {
        "colab": {
          "base_uri": "https://localhost:8080/"
        },
        "id": "EhgIgpIeuteD",
        "outputId": "26b13622-d54b-4261-f4b2-19a552302e2a"
      },
      "execution_count": null,
      "outputs": [
        {
          "output_type": "stream",
          "name": "stdout",
          "text": [
            "Ultralytics YOLOv8.0.173 🚀 Python-3.10.12 torch-2.0.1+cu118 CUDA:0 (Tesla T4, 15102MiB)\n",
            "\u001b[34m\u001b[1mengine/trainer: \u001b[0mtask=detect, mode=train, model=yolov8s.pt, data=data.yaml, epochs=5, patience=50, batch=16, imgsz=640, save=True, save_period=-1, cache=False, device=None, workers=8, project=None, name=None, exist_ok=False, pretrained=True, optimizer=auto, verbose=True, seed=0, deterministic=True, single_cls=False, rect=False, cos_lr=False, close_mosaic=10, resume=False, amp=True, fraction=1.0, profile=False, freeze=None, overlap_mask=True, mask_ratio=4, dropout=0.0, val=True, split=val, save_json=False, save_hybrid=False, conf=None, iou=0.7, max_det=300, half=False, dnn=False, plots=True, source=None, show=False, save_txt=False, save_conf=False, save_crop=False, show_labels=True, show_conf=True, vid_stride=1, stream_buffer=False, line_width=None, visualize=False, augment=False, agnostic_nms=False, classes=None, retina_masks=False, boxes=True, format=torchscript, keras=False, optimize=False, int8=False, dynamic=False, simplify=False, opset=None, workspace=4, nms=False, lr0=0.01, lrf=0.01, momentum=0.937, weight_decay=0.0005, warmup_epochs=3.0, warmup_momentum=0.8, warmup_bias_lr=0.1, box=7.5, cls=0.5, dfl=1.5, pose=12.0, kobj=1.0, label_smoothing=0.0, nbs=64, hsv_h=0.015, hsv_s=0.7, hsv_v=0.4, degrees=0.0, translate=0.1, scale=0.5, shear=0.0, perspective=0.0, flipud=0.0, fliplr=0.5, mosaic=1.0, mixup=0.0, copy_paste=0.0, cfg=None, tracker=botsort.yaml, save_dir=runs/detect/train2\n",
            "Overriding model.yaml nc=80 with nc=3\n",
            "\n",
            "                   from  n    params  module                                       arguments                     \n",
            "  0                  -1  1       928  ultralytics.nn.modules.conv.Conv             [3, 32, 3, 2]                 \n",
            "  1                  -1  1     18560  ultralytics.nn.modules.conv.Conv             [32, 64, 3, 2]                \n",
            "  2                  -1  1     29056  ultralytics.nn.modules.block.C2f             [64, 64, 1, True]             \n",
            "  3                  -1  1     73984  ultralytics.nn.modules.conv.Conv             [64, 128, 3, 2]               \n",
            "  4                  -1  2    197632  ultralytics.nn.modules.block.C2f             [128, 128, 2, True]           \n",
            "  5                  -1  1    295424  ultralytics.nn.modules.conv.Conv             [128, 256, 3, 2]              \n",
            "  6                  -1  2    788480  ultralytics.nn.modules.block.C2f             [256, 256, 2, True]           \n",
            "  7                  -1  1   1180672  ultralytics.nn.modules.conv.Conv             [256, 512, 3, 2]              \n",
            "  8                  -1  1   1838080  ultralytics.nn.modules.block.C2f             [512, 512, 1, True]           \n",
            "  9                  -1  1    656896  ultralytics.nn.modules.block.SPPF            [512, 512, 5]                 \n",
            " 10                  -1  1         0  torch.nn.modules.upsampling.Upsample         [None, 2, 'nearest']          \n",
            " 11             [-1, 6]  1         0  ultralytics.nn.modules.conv.Concat           [1]                           \n",
            " 12                  -1  1    591360  ultralytics.nn.modules.block.C2f             [768, 256, 1]                 \n",
            " 13                  -1  1         0  torch.nn.modules.upsampling.Upsample         [None, 2, 'nearest']          \n",
            " 14             [-1, 4]  1         0  ultralytics.nn.modules.conv.Concat           [1]                           \n",
            " 15                  -1  1    148224  ultralytics.nn.modules.block.C2f             [384, 128, 1]                 \n",
            " 16                  -1  1    147712  ultralytics.nn.modules.conv.Conv             [128, 128, 3, 2]              \n",
            " 17            [-1, 12]  1         0  ultralytics.nn.modules.conv.Concat           [1]                           \n",
            " 18                  -1  1    493056  ultralytics.nn.modules.block.C2f             [384, 256, 1]                 \n",
            " 19                  -1  1    590336  ultralytics.nn.modules.conv.Conv             [256, 256, 3, 2]              \n",
            " 20             [-1, 9]  1         0  ultralytics.nn.modules.conv.Concat           [1]                           \n",
            " 21                  -1  1   1969152  ultralytics.nn.modules.block.C2f             [768, 512, 1]                 \n",
            " 22        [15, 18, 21]  1   2117209  ultralytics.nn.modules.head.Detect           [3, [128, 256, 512]]          \n",
            "Model summary: 225 layers, 11136761 parameters, 11136745 gradients\n",
            "\n",
            "Transferred 349/355 items from pretrained weights\n",
            "\u001b[34m\u001b[1mTensorBoard: \u001b[0mStart with 'tensorboard --logdir runs/detect/train2', view at http://localhost:6006/\n",
            "Freezing layer 'model.22.dfl.conv.weight'\n",
            "\u001b[34m\u001b[1mAMP: \u001b[0mrunning Automatic Mixed Precision (AMP) checks with YOLOv8n...\n",
            "\u001b[34m\u001b[1mAMP: \u001b[0mchecks passed ✅\n",
            "\u001b[34m\u001b[1mtrain: \u001b[0mScanning /content/Fire-Smoke-and-Human-Detector-31/train/labels.cache... 24003 images, 2457 backgrounds, 0 corrupt: 100% 24003/24003 [00:00<?, ?it/s]\n",
            "WARNING ⚠️ Box and segment counts should be equal, but got len(segments) = 36, len(boxes) = 59721. To resolve this only boxes will be used and all segments will be removed. To avoid this please supply either a detect or segment dataset, not a detect-segment mixed dataset.\n",
            "\u001b[34m\u001b[1malbumentations: \u001b[0mBlur(p=0.01, blur_limit=(3, 7)), MedianBlur(p=0.01, blur_limit=(3, 7)), ToGray(p=0.01), CLAHE(p=0.01, clip_limit=(1, 4.0), tile_grid_size=(8, 8))\n",
            "\u001b[34m\u001b[1mval: \u001b[0mScanning /content/Fire-Smoke-and-Human-Detector-31/valid/labels.cache... 1017 images, 74 backgrounds, 0 corrupt: 100% 1017/1017 [00:00<?, ?it/s]\n",
            "Plotting labels to runs/detect/train2/labels.jpg... \n",
            "\u001b[34m\u001b[1moptimizer:\u001b[0m AdamW(lr=0.001429, momentum=0.9) with parameter groups 57 weight(decay=0.0), 64 weight(decay=0.0005), 63 bias(decay=0.0)\n",
            "Image sizes 640 train, 640 val\n",
            "Using 2 dataloader workers\n",
            "Logging results to \u001b[1mruns/detect/train2\u001b[0m\n",
            "Starting training for 5 epochs...\n",
            "\n",
            "      Epoch    GPU_mem   box_loss   cls_loss   dfl_loss  Instances       Size\n",
            "        1/5      3.96G     0.8321      1.278      1.185          6        640: 100% 1501/1501 [09:29<00:00,  2.64it/s]\n",
            "                 Class     Images  Instances      Box(P          R      mAP50  mAP50-95): 100% 32/32 [00:12<00:00,  2.66it/s]\n",
            "                   all       1017       2882      0.594      0.615      0.616      0.498\n",
            "\n",
            "      Epoch    GPU_mem   box_loss   cls_loss   dfl_loss  Instances       Size\n",
            "        2/5      4.05G     0.7207     0.9824      1.123         22        640: 100% 1501/1501 [09:19<00:00,  2.68it/s]\n",
            "                 Class     Images  Instances      Box(P          R      mAP50  mAP50-95): 100% 32/32 [00:12<00:00,  2.65it/s]\n",
            "                   all       1017       2882      0.712      0.639      0.645      0.545\n",
            "\n",
            "      Epoch    GPU_mem   box_loss   cls_loss   dfl_loss  Instances       Size\n",
            "        3/5      4.04G     0.6595     0.8852      1.091          8        640: 100% 1501/1501 [09:08<00:00,  2.74it/s]\n",
            "                 Class     Images  Instances      Box(P          R      mAP50  mAP50-95): 100% 32/32 [00:11<00:00,  2.79it/s]\n",
            "                   all       1017       2882      0.799        0.7       0.73      0.596\n",
            "\n",
            "      Epoch    GPU_mem   box_loss   cls_loss   dfl_loss  Instances       Size\n",
            "        4/5      4.02G     0.5914      0.771      1.052         18        640: 100% 1501/1501 [08:59<00:00,  2.78it/s]\n",
            "                 Class     Images  Instances      Box(P          R      mAP50  mAP50-95): 100% 32/32 [00:12<00:00,  2.66it/s]\n",
            "                   all       1017       2882      0.818      0.719      0.742      0.612\n",
            "\n",
            "      Epoch    GPU_mem   box_loss   cls_loss   dfl_loss  Instances       Size\n",
            "        5/5      4.06G     0.5748     0.7393      1.043         12        640: 100% 1501/1501 [08:51<00:00,  2.83it/s]\n",
            "                 Class     Images  Instances      Box(P          R      mAP50  mAP50-95): 100% 32/32 [00:12<00:00,  2.67it/s]\n",
            "                   all       1017       2882      0.801      0.727      0.748      0.616\n",
            "\n",
            "5 epochs completed in 0.783 hours.\n",
            "Optimizer stripped from runs/detect/train2/weights/last.pt, 22.5MB\n",
            "Optimizer stripped from runs/detect/train2/weights/best.pt, 22.5MB\n",
            "\n",
            "Validating runs/detect/train2/weights/best.pt...\n",
            "Ultralytics YOLOv8.0.173 🚀 Python-3.10.12 torch-2.0.1+cu118 CUDA:0 (Tesla T4, 15102MiB)\n",
            "Model summary (fused): 168 layers, 11126745 parameters, 0 gradients\n",
            "                 Class     Images  Instances      Box(P          R      mAP50  mAP50-95): 100% 32/32 [00:19<00:00,  1.65it/s]\n",
            "                   all       1017       2882      0.802      0.726      0.748      0.616\n",
            "                  fire       1017       1627      0.948      0.958      0.974      0.906\n",
            "                 human       1017        455      0.527      0.446      0.436      0.176\n",
            "                 smoke       1017        800       0.93      0.774      0.834      0.766\n",
            "Speed: 0.4ms preprocess, 4.7ms inference, 0.0ms loss, 1.2ms postprocess per image\n",
            "Results saved to \u001b[1mruns/detect/train2\u001b[0m\n"
          ]
        }
      ]
    },
    {
      "cell_type": "code",
      "source": [
        "!yolo task=detect mode=val model=runs/detect/train2 data=data.yaml\n"
      ],
      "metadata": {
        "colab": {
          "base_uri": "https://localhost:8080/"
        },
        "id": "-BBC__gSvOHe",
        "outputId": "a82f02c1-bf5e-4d07-f90a-577141aeb09e"
      },
      "execution_count": null,
      "outputs": [
        {
          "output_type": "stream",
          "name": "stdout",
          "text": [
            "Traceback (most recent call last):\n",
            "  File \"/usr/local/bin/yolo\", line 8, in <module>\n",
            "    sys.exit(entrypoint())\n",
            "  File \"/usr/local/lib/python3.10/dist-packages/ultralytics/cfg/__init__.py\", line 446, in entrypoint\n",
            "    getattr(model, mode)(**overrides)  # default args from model\n",
            "  File \"/usr/local/lib/python3.10/dist-packages/torch/utils/_contextlib.py\", line 115, in decorate_context\n",
            "    return func(*args, **kwargs)\n",
            "  File \"/usr/local/lib/python3.10/dist-packages/ultralytics/engine/model.py\", line 272, in val\n",
            "    args['imgsz'] = check_imgsz(args['imgsz'], max_dim=1)\n",
            "KeyError: 'imgsz'\n"
          ]
        }
      ]
    },
    {
      "cell_type": "code",
      "source": [
        "!yolo predict model=runs/detect/train2/weights/best.pt source = \"video /073593677_main_xxl.mp4\""
      ],
      "metadata": {
        "colab": {
          "base_uri": "https://localhost:8080/"
        },
        "id": "BqBwkOB4vsdh",
        "outputId": "66d16ef8-a93f-4959-b1bc-37e0cbb6a10b"
      },
      "execution_count": null,
      "outputs": [
        {
          "output_type": "stream",
          "name": "stdout",
          "text": [
            "Ultralytics YOLOv8.0.173 🚀 Python-3.10.12 torch-2.0.1+cu118 CUDA:0 (Tesla T4, 15102MiB)\n",
            "Model summary (fused): 168 layers, 11126745 parameters, 0 gradients\n",
            "\n",
            "video 1/1 (1/181) /content/Fire-Smoke-and-Human-Detector-31/video /073593677_main_xxl.mp4: 384x640 (no detections), 101.6ms\n",
            "video 1/1 (2/181) /content/Fire-Smoke-and-Human-Detector-31/video /073593677_main_xxl.mp4: 384x640 1 human, 11.0ms\n",
            "video 1/1 (3/181) /content/Fire-Smoke-and-Human-Detector-31/video /073593677_main_xxl.mp4: 384x640 1 fire, 1 human, 11.1ms\n",
            "video 1/1 (4/181) /content/Fire-Smoke-and-Human-Detector-31/video /073593677_main_xxl.mp4: 384x640 1 fire, 11.0ms\n",
            "video 1/1 (5/181) /content/Fire-Smoke-and-Human-Detector-31/video /073593677_main_xxl.mp4: 384x640 1 fire, 1 human, 11.0ms\n",
            "video 1/1 (6/181) /content/Fire-Smoke-and-Human-Detector-31/video /073593677_main_xxl.mp4: 384x640 1 human, 11.0ms\n",
            "video 1/1 (7/181) /content/Fire-Smoke-and-Human-Detector-31/video /073593677_main_xxl.mp4: 384x640 1 fire, 1 human, 11.0ms\n",
            "video 1/1 (8/181) /content/Fire-Smoke-and-Human-Detector-31/video /073593677_main_xxl.mp4: 384x640 1 fire, 1 human, 11.0ms\n",
            "video 1/1 (9/181) /content/Fire-Smoke-and-Human-Detector-31/video /073593677_main_xxl.mp4: 384x640 2 humans, 11.1ms\n",
            "video 1/1 (10/181) /content/Fire-Smoke-and-Human-Detector-31/video /073593677_main_xxl.mp4: 384x640 1 fire, 2 humans, 11.1ms\n",
            "video 1/1 (11/181) /content/Fire-Smoke-and-Human-Detector-31/video /073593677_main_xxl.mp4: 384x640 1 fire, 2 humans, 9.7ms\n",
            "video 1/1 (12/181) /content/Fire-Smoke-and-Human-Detector-31/video /073593677_main_xxl.mp4: 384x640 1 fire, 1 human, 9.8ms\n",
            "video 1/1 (13/181) /content/Fire-Smoke-and-Human-Detector-31/video /073593677_main_xxl.mp4: 384x640 1 fire, 2 humans, 9.8ms\n",
            "video 1/1 (14/181) /content/Fire-Smoke-and-Human-Detector-31/video /073593677_main_xxl.mp4: 384x640 2 humans, 9.8ms\n",
            "video 1/1 (15/181) /content/Fire-Smoke-and-Human-Detector-31/video /073593677_main_xxl.mp4: 384x640 2 humans, 11.8ms\n",
            "video 1/1 (16/181) /content/Fire-Smoke-and-Human-Detector-31/video /073593677_main_xxl.mp4: 384x640 1 fire, 2 humans, 9.8ms\n",
            "video 1/1 (17/181) /content/Fire-Smoke-and-Human-Detector-31/video /073593677_main_xxl.mp4: 384x640 1 fire, 2 humans, 9.8ms\n",
            "video 1/1 (18/181) /content/Fire-Smoke-and-Human-Detector-31/video /073593677_main_xxl.mp4: 384x640 1 fire, 1 human, 9.7ms\n",
            "video 1/1 (19/181) /content/Fire-Smoke-and-Human-Detector-31/video /073593677_main_xxl.mp4: 384x640 1 fire, 9.7ms\n",
            "video 1/1 (20/181) /content/Fire-Smoke-and-Human-Detector-31/video /073593677_main_xxl.mp4: 384x640 1 fire, 8.7ms\n",
            "video 1/1 (21/181) /content/Fire-Smoke-and-Human-Detector-31/video /073593677_main_xxl.mp4: 384x640 1 fire, 1 human, 8.6ms\n",
            "video 1/1 (22/181) /content/Fire-Smoke-and-Human-Detector-31/video /073593677_main_xxl.mp4: 384x640 1 fire, 1 human, 8.7ms\n",
            "video 1/1 (23/181) /content/Fire-Smoke-and-Human-Detector-31/video /073593677_main_xxl.mp4: 384x640 1 fire, 1 human, 8.6ms\n",
            "video 1/1 (24/181) /content/Fire-Smoke-and-Human-Detector-31/video /073593677_main_xxl.mp4: 384x640 1 fire, 1 human, 8.7ms\n",
            "video 1/1 (25/181) /content/Fire-Smoke-and-Human-Detector-31/video /073593677_main_xxl.mp4: 384x640 1 fire, 1 human, 8.6ms\n",
            "video 1/1 (26/181) /content/Fire-Smoke-and-Human-Detector-31/video /073593677_main_xxl.mp4: 384x640 1 fire, 1 human, 8.6ms\n",
            "video 1/1 (27/181) /content/Fire-Smoke-and-Human-Detector-31/video /073593677_main_xxl.mp4: 384x640 1 fire, 8.6ms\n",
            "video 1/1 (28/181) /content/Fire-Smoke-and-Human-Detector-31/video /073593677_main_xxl.mp4: 384x640 1 fire, 1 human, 8.7ms\n",
            "video 1/1 (29/181) /content/Fire-Smoke-and-Human-Detector-31/video /073593677_main_xxl.mp4: 384x640 1 fire, 1 human, 8.7ms\n",
            "video 1/1 (30/181) /content/Fire-Smoke-and-Human-Detector-31/video /073593677_main_xxl.mp4: 384x640 1 fire, 8.0ms\n",
            "video 1/1 (31/181) /content/Fire-Smoke-and-Human-Detector-31/video /073593677_main_xxl.mp4: 384x640 2 fires, 7.9ms\n",
            "video 1/1 (32/181) /content/Fire-Smoke-and-Human-Detector-31/video /073593677_main_xxl.mp4: 384x640 1 fire, 7.9ms\n",
            "video 1/1 (33/181) /content/Fire-Smoke-and-Human-Detector-31/video /073593677_main_xxl.mp4: 384x640 1 fire, 1 smoke, 7.9ms\n",
            "video 1/1 (34/181) /content/Fire-Smoke-and-Human-Detector-31/video /073593677_main_xxl.mp4: 384x640 1 fire, 1 human, 8.2ms\n",
            "video 1/1 (35/181) /content/Fire-Smoke-and-Human-Detector-31/video /073593677_main_xxl.mp4: 384x640 1 fire, 7.9ms\n",
            "video 1/1 (36/181) /content/Fire-Smoke-and-Human-Detector-31/video /073593677_main_xxl.mp4: 384x640 (no detections), 7.9ms\n",
            "video 1/1 (37/181) /content/Fire-Smoke-and-Human-Detector-31/video /073593677_main_xxl.mp4: 384x640 1 fire, 1 smoke, 8.0ms\n",
            "video 1/1 (38/181) /content/Fire-Smoke-and-Human-Detector-31/video /073593677_main_xxl.mp4: 384x640 1 fire, 8.0ms\n",
            "video 1/1 (39/181) /content/Fire-Smoke-and-Human-Detector-31/video /073593677_main_xxl.mp4: 384x640 1 fire, 7.9ms\n",
            "video 1/1 (40/181) /content/Fire-Smoke-and-Human-Detector-31/video /073593677_main_xxl.mp4: 384x640 1 fire, 8.0ms\n",
            "video 1/1 (41/181) /content/Fire-Smoke-and-Human-Detector-31/video /073593677_main_xxl.mp4: 384x640 1 fire, 7.2ms\n",
            "video 1/1 (42/181) /content/Fire-Smoke-and-Human-Detector-31/video /073593677_main_xxl.mp4: 384x640 1 fire, 7.2ms\n",
            "video 1/1 (43/181) /content/Fire-Smoke-and-Human-Detector-31/video /073593677_main_xxl.mp4: 384x640 1 fire, 7.2ms\n",
            "video 1/1 (44/181) /content/Fire-Smoke-and-Human-Detector-31/video /073593677_main_xxl.mp4: 384x640 1 fire, 7.2ms\n",
            "video 1/1 (45/181) /content/Fire-Smoke-and-Human-Detector-31/video /073593677_main_xxl.mp4: 384x640 1 fire, 7.2ms\n",
            "video 1/1 (46/181) /content/Fire-Smoke-and-Human-Detector-31/video /073593677_main_xxl.mp4: 384x640 1 human, 7.2ms\n",
            "video 1/1 (47/181) /content/Fire-Smoke-and-Human-Detector-31/video /073593677_main_xxl.mp4: 384x640 1 fire, 1 human, 7.2ms\n",
            "video 1/1 (48/181) /content/Fire-Smoke-and-Human-Detector-31/video /073593677_main_xxl.mp4: 384x640 1 fire, 1 human, 8.6ms\n",
            "video 1/1 (49/181) /content/Fire-Smoke-and-Human-Detector-31/video /073593677_main_xxl.mp4: 384x640 1 fire, 1 human, 7.2ms\n",
            "video 1/1 (50/181) /content/Fire-Smoke-and-Human-Detector-31/video /073593677_main_xxl.mp4: 384x640 1 fire, 1 human, 7.2ms\n",
            "video 1/1 (51/181) /content/Fire-Smoke-and-Human-Detector-31/video /073593677_main_xxl.mp4: 384x640 1 fire, 1 human, 7.2ms\n",
            "video 1/1 (52/181) /content/Fire-Smoke-and-Human-Detector-31/video /073593677_main_xxl.mp4: 384x640 1 fire, 1 human, 7.2ms\n",
            "video 1/1 (53/181) /content/Fire-Smoke-and-Human-Detector-31/video /073593677_main_xxl.mp4: 384x640 1 human, 7.1ms\n",
            "video 1/1 (54/181) /content/Fire-Smoke-and-Human-Detector-31/video /073593677_main_xxl.mp4: 384x640 1 fire, 1 human, 7.1ms\n",
            "video 1/1 (55/181) /content/Fire-Smoke-and-Human-Detector-31/video /073593677_main_xxl.mp4: 384x640 1 fire, 1 human, 7.1ms\n",
            "video 1/1 (56/181) /content/Fire-Smoke-and-Human-Detector-31/video /073593677_main_xxl.mp4: 384x640 1 fire, 1 human, 7.5ms\n",
            "video 1/1 (57/181) /content/Fire-Smoke-and-Human-Detector-31/video /073593677_main_xxl.mp4: 384x640 1 fire, 1 human, 7.1ms\n",
            "video 1/1 (58/181) /content/Fire-Smoke-and-Human-Detector-31/video /073593677_main_xxl.mp4: 384x640 1 fire, 7.1ms\n",
            "video 1/1 (59/181) /content/Fire-Smoke-and-Human-Detector-31/video /073593677_main_xxl.mp4: 384x640 1 fire, 7.1ms\n",
            "video 1/1 (60/181) /content/Fire-Smoke-and-Human-Detector-31/video /073593677_main_xxl.mp4: 384x640 1 fire, 7.1ms\n",
            "video 1/1 (61/181) /content/Fire-Smoke-and-Human-Detector-31/video /073593677_main_xxl.mp4: 384x640 1 fire, 7.1ms\n",
            "video 1/1 (62/181) /content/Fire-Smoke-and-Human-Detector-31/video /073593677_main_xxl.mp4: 384x640 1 fire, 7.1ms\n",
            "video 1/1 (63/181) /content/Fire-Smoke-and-Human-Detector-31/video /073593677_main_xxl.mp4: 384x640 2 fires, 7.1ms\n",
            "video 1/1 (64/181) /content/Fire-Smoke-and-Human-Detector-31/video /073593677_main_xxl.mp4: 384x640 (no detections), 7.0ms\n",
            "video 1/1 (65/181) /content/Fire-Smoke-and-Human-Detector-31/video /073593677_main_xxl.mp4: 384x640 1 fire, 9.0ms\n",
            "video 1/1 (66/181) /content/Fire-Smoke-and-Human-Detector-31/video /073593677_main_xxl.mp4: 384x640 1 fire, 7.0ms\n",
            "video 1/1 (67/181) /content/Fire-Smoke-and-Human-Detector-31/video /073593677_main_xxl.mp4: 384x640 1 fire, 1 human, 7.0ms\n",
            "video 1/1 (68/181) /content/Fire-Smoke-and-Human-Detector-31/video /073593677_main_xxl.mp4: 384x640 1 fire, 1 human, 7.0ms\n",
            "video 1/1 (69/181) /content/Fire-Smoke-and-Human-Detector-31/video /073593677_main_xxl.mp4: 384x640 1 fire, 6.9ms\n",
            "video 1/1 (70/181) /content/Fire-Smoke-and-Human-Detector-31/video /073593677_main_xxl.mp4: 384x640 1 fire, 1 human, 9.5ms\n",
            "video 1/1 (71/181) /content/Fire-Smoke-and-Human-Detector-31/video /073593677_main_xxl.mp4: 384x640 1 fire, 1 human, 7.0ms\n",
            "video 1/1 (72/181) /content/Fire-Smoke-and-Human-Detector-31/video /073593677_main_xxl.mp4: 384x640 1 fire, 1 human, 6.9ms\n",
            "video 1/1 (73/181) /content/Fire-Smoke-and-Human-Detector-31/video /073593677_main_xxl.mp4: 384x640 1 fire, 1 human, 6.8ms\n",
            "video 1/1 (74/181) /content/Fire-Smoke-and-Human-Detector-31/video /073593677_main_xxl.mp4: 384x640 1 human, 6.9ms\n",
            "video 1/1 (75/181) /content/Fire-Smoke-and-Human-Detector-31/video /073593677_main_xxl.mp4: 384x640 1 fire, 1 human, 6.8ms\n",
            "video 1/1 (76/181) /content/Fire-Smoke-and-Human-Detector-31/video /073593677_main_xxl.mp4: 384x640 1 fire, 1 human, 8.5ms\n",
            "video 1/1 (77/181) /content/Fire-Smoke-and-Human-Detector-31/video /073593677_main_xxl.mp4: 384x640 1 fire, 1 human, 6.8ms\n",
            "video 1/1 (78/181) /content/Fire-Smoke-and-Human-Detector-31/video /073593677_main_xxl.mp4: 384x640 1 fire, 1 human, 6.8ms\n",
            "video 1/1 (79/181) /content/Fire-Smoke-and-Human-Detector-31/video /073593677_main_xxl.mp4: 384x640 1 fire, 1 human, 6.8ms\n",
            "video 1/1 (80/181) /content/Fire-Smoke-and-Human-Detector-31/video /073593677_main_xxl.mp4: 384x640 1 fire, 1 human, 6.8ms\n",
            "video 1/1 (81/181) /content/Fire-Smoke-and-Human-Detector-31/video /073593677_main_xxl.mp4: 384x640 1 fire, 1 human, 6.8ms\n",
            "video 1/1 (82/181) /content/Fire-Smoke-and-Human-Detector-31/video /073593677_main_xxl.mp4: 384x640 1 fire, 2 humans, 6.9ms\n",
            "video 1/1 (83/181) /content/Fire-Smoke-and-Human-Detector-31/video /073593677_main_xxl.mp4: 384x640 1 fire, 1 human, 6.8ms\n",
            "video 1/1 (84/181) /content/Fire-Smoke-and-Human-Detector-31/video /073593677_main_xxl.mp4: 384x640 1 fire, 1 human, 6.8ms\n",
            "video 1/1 (85/181) /content/Fire-Smoke-and-Human-Detector-31/video /073593677_main_xxl.mp4: 384x640 1 fire, 1 human, 7.3ms\n",
            "video 1/1 (86/181) /content/Fire-Smoke-and-Human-Detector-31/video /073593677_main_xxl.mp4: 384x640 1 fire, 1 human, 7.0ms\n",
            "video 1/1 (87/181) /content/Fire-Smoke-and-Human-Detector-31/video /073593677_main_xxl.mp4: 384x640 1 fire, 1 human, 7.0ms\n",
            "video 1/1 (88/181) /content/Fire-Smoke-and-Human-Detector-31/video /073593677_main_xxl.mp4: 384x640 1 fire, 1 human, 7.0ms\n",
            "video 1/1 (89/181) /content/Fire-Smoke-and-Human-Detector-31/video /073593677_main_xxl.mp4: 384x640 1 fire, 1 human, 7.0ms\n",
            "video 1/1 (90/181) /content/Fire-Smoke-and-Human-Detector-31/video /073593677_main_xxl.mp4: 384x640 1 fire, 7.0ms\n",
            "video 1/1 (91/181) /content/Fire-Smoke-and-Human-Detector-31/video /073593677_main_xxl.mp4: 384x640 1 fire, 1 human, 7.0ms\n",
            "video 1/1 (92/181) /content/Fire-Smoke-and-Human-Detector-31/video /073593677_main_xxl.mp4: 384x640 1 fire, 1 human, 6.8ms\n",
            "video 1/1 (93/181) /content/Fire-Smoke-and-Human-Detector-31/video /073593677_main_xxl.mp4: 384x640 1 human, 8.6ms\n",
            "video 1/1 (94/181) /content/Fire-Smoke-and-Human-Detector-31/video /073593677_main_xxl.mp4: 384x640 1 fire, 1 human, 6.8ms\n",
            "video 1/1 (95/181) /content/Fire-Smoke-and-Human-Detector-31/video /073593677_main_xxl.mp4: 384x640 1 human, 6.8ms\n",
            "video 1/1 (96/181) /content/Fire-Smoke-and-Human-Detector-31/video /073593677_main_xxl.mp4: 384x640 1 human, 6.8ms\n",
            "video 1/1 (97/181) /content/Fire-Smoke-and-Human-Detector-31/video /073593677_main_xxl.mp4: 384x640 1 human, 6.9ms\n",
            "video 1/1 (98/181) /content/Fire-Smoke-and-Human-Detector-31/video /073593677_main_xxl.mp4: 384x640 2 humans, 6.7ms\n",
            "video 1/1 (99/181) /content/Fire-Smoke-and-Human-Detector-31/video /073593677_main_xxl.mp4: 384x640 1 human, 7.1ms\n",
            "video 1/1 (100/181) /content/Fire-Smoke-and-Human-Detector-31/video /073593677_main_xxl.mp4: 384x640 1 fire, 1 human, 6.7ms\n",
            "video 1/1 (101/181) /content/Fire-Smoke-and-Human-Detector-31/video /073593677_main_xxl.mp4: 384x640 1 fire, 2 humans, 8.2ms\n",
            "video 1/1 (102/181) /content/Fire-Smoke-and-Human-Detector-31/video /073593677_main_xxl.mp4: 384x640 2 humans, 6.7ms\n",
            "video 1/1 (103/181) /content/Fire-Smoke-and-Human-Detector-31/video /073593677_main_xxl.mp4: 384x640 (no detections), 6.7ms\n",
            "video 1/1 (104/181) /content/Fire-Smoke-and-Human-Detector-31/video /073593677_main_xxl.mp4: 384x640 (no detections), 6.7ms\n",
            "video 1/1 (105/181) /content/Fire-Smoke-and-Human-Detector-31/video /073593677_main_xxl.mp4: 384x640 1 human, 6.7ms\n",
            "video 1/1 (106/181) /content/Fire-Smoke-and-Human-Detector-31/video /073593677_main_xxl.mp4: 384x640 1 human, 6.7ms\n",
            "video 1/1 (107/181) /content/Fire-Smoke-and-Human-Detector-31/video /073593677_main_xxl.mp4: 384x640 1 human, 6.7ms\n",
            "video 1/1 (108/181) /content/Fire-Smoke-and-Human-Detector-31/video /073593677_main_xxl.mp4: 384x640 2 humans, 6.8ms\n",
            "video 1/1 (109/181) /content/Fire-Smoke-and-Human-Detector-31/video /073593677_main_xxl.mp4: 384x640 (no detections), 6.7ms\n",
            "video 1/1 (110/181) /content/Fire-Smoke-and-Human-Detector-31/video /073593677_main_xxl.mp4: 384x640 2 humans, 7.4ms\n",
            "video 1/1 (111/181) /content/Fire-Smoke-and-Human-Detector-31/video /073593677_main_xxl.mp4: 384x640 1 human, 6.7ms\n",
            "video 1/1 (112/181) /content/Fire-Smoke-and-Human-Detector-31/video /073593677_main_xxl.mp4: 384x640 1 human, 6.7ms\n",
            "video 1/1 (113/181) /content/Fire-Smoke-and-Human-Detector-31/video /073593677_main_xxl.mp4: 384x640 1 human, 6.7ms\n",
            "video 1/1 (114/181) /content/Fire-Smoke-and-Human-Detector-31/video /073593677_main_xxl.mp4: 384x640 2 humans, 6.7ms\n",
            "video 1/1 (115/181) /content/Fire-Smoke-and-Human-Detector-31/video /073593677_main_xxl.mp4: 384x640 1 human, 6.4ms\n",
            "video 1/1 (116/181) /content/Fire-Smoke-and-Human-Detector-31/video /073593677_main_xxl.mp4: 384x640 1 human, 6.5ms\n",
            "video 1/1 (117/181) /content/Fire-Smoke-and-Human-Detector-31/video /073593677_main_xxl.mp4: 384x640 2 fires, 2 humans, 6.4ms\n",
            "video 1/1 (118/181) /content/Fire-Smoke-and-Human-Detector-31/video /073593677_main_xxl.mp4: 384x640 1 human, 6.5ms\n",
            "video 1/1 (119/181) /content/Fire-Smoke-and-Human-Detector-31/video /073593677_main_xxl.mp4: 384x640 1 human, 6.5ms\n",
            "video 1/1 (120/181) /content/Fire-Smoke-and-Human-Detector-31/video /073593677_main_xxl.mp4: 384x640 1 human, 6.5ms\n",
            "video 1/1 (121/181) /content/Fire-Smoke-and-Human-Detector-31/video /073593677_main_xxl.mp4: 384x640 1 human, 6.5ms\n",
            "video 1/1 (122/181) /content/Fire-Smoke-and-Human-Detector-31/video /073593677_main_xxl.mp4: 384x640 (no detections), 8.7ms\n",
            "video 1/1 (123/181) /content/Fire-Smoke-and-Human-Detector-31/video /073593677_main_xxl.mp4: 384x640 (no detections), 7.2ms\n",
            "video 1/1 (124/181) /content/Fire-Smoke-and-Human-Detector-31/video /073593677_main_xxl.mp4: 384x640 1 human, 8.7ms\n",
            "video 1/1 (125/181) /content/Fire-Smoke-and-Human-Detector-31/video /073593677_main_xxl.mp4: 384x640 1 human, 8.8ms\n",
            "video 1/1 (126/181) /content/Fire-Smoke-and-Human-Detector-31/video /073593677_main_xxl.mp4: 384x640 1 human, 9.5ms\n",
            "video 1/1 (127/181) /content/Fire-Smoke-and-Human-Detector-31/video /073593677_main_xxl.mp4: 384x640 1 human, 9.3ms\n",
            "video 1/1 (128/181) /content/Fire-Smoke-and-Human-Detector-31/video /073593677_main_xxl.mp4: 384x640 2 humans, 6.9ms\n",
            "video 1/1 (129/181) /content/Fire-Smoke-and-Human-Detector-31/video /073593677_main_xxl.mp4: 384x640 2 humans, 9.0ms\n",
            "video 1/1 (130/181) /content/Fire-Smoke-and-Human-Detector-31/video /073593677_main_xxl.mp4: 384x640 2 humans, 8.0ms\n",
            "video 1/1 (131/181) /content/Fire-Smoke-and-Human-Detector-31/video /073593677_main_xxl.mp4: 384x640 2 humans, 12.1ms\n",
            "video 1/1 (132/181) /content/Fire-Smoke-and-Human-Detector-31/video /073593677_main_xxl.mp4: 384x640 2 humans, 6.9ms\n",
            "video 1/1 (133/181) /content/Fire-Smoke-and-Human-Detector-31/video /073593677_main_xxl.mp4: 384x640 2 humans, 7.6ms\n",
            "video 1/1 (134/181) /content/Fire-Smoke-and-Human-Detector-31/video /073593677_main_xxl.mp4: 384x640 3 humans, 7.0ms\n",
            "video 1/1 (135/181) /content/Fire-Smoke-and-Human-Detector-31/video /073593677_main_xxl.mp4: 384x640 2 humans, 9.7ms\n",
            "video 1/1 (136/181) /content/Fire-Smoke-and-Human-Detector-31/video /073593677_main_xxl.mp4: 384x640 3 humans, 7.0ms\n",
            "video 1/1 (137/181) /content/Fire-Smoke-and-Human-Detector-31/video /073593677_main_xxl.mp4: 384x640 3 humans, 7.0ms\n",
            "video 1/1 (138/181) /content/Fire-Smoke-and-Human-Detector-31/video /073593677_main_xxl.mp4: 384x640 2 humans, 7.3ms\n",
            "video 1/1 (139/181) /content/Fire-Smoke-and-Human-Detector-31/video /073593677_main_xxl.mp4: 384x640 2 humans, 7.1ms\n",
            "video 1/1 (140/181) /content/Fire-Smoke-and-Human-Detector-31/video /073593677_main_xxl.mp4: 384x640 2 humans, 7.1ms\n",
            "video 1/1 (141/181) /content/Fire-Smoke-and-Human-Detector-31/video /073593677_main_xxl.mp4: 384x640 3 humans, 7.1ms\n",
            "video 1/1 (142/181) /content/Fire-Smoke-and-Human-Detector-31/video /073593677_main_xxl.mp4: 384x640 2 humans, 6.8ms\n",
            "video 1/1 (143/181) /content/Fire-Smoke-and-Human-Detector-31/video /073593677_main_xxl.mp4: 384x640 3 humans, 9.3ms\n",
            "video 1/1 (144/181) /content/Fire-Smoke-and-Human-Detector-31/video /073593677_main_xxl.mp4: 384x640 4 humans, 7.1ms\n",
            "video 1/1 (145/181) /content/Fire-Smoke-and-Human-Detector-31/video /073593677_main_xxl.mp4: 384x640 4 humans, 10.2ms\n",
            "video 1/1 (146/181) /content/Fire-Smoke-and-Human-Detector-31/video /073593677_main_xxl.mp4: 384x640 5 humans, 7.2ms\n",
            "video 1/1 (147/181) /content/Fire-Smoke-and-Human-Detector-31/video /073593677_main_xxl.mp4: 384x640 4 humans, 8.0ms\n",
            "video 1/1 (148/181) /content/Fire-Smoke-and-Human-Detector-31/video /073593677_main_xxl.mp4: 384x640 3 humans, 6.9ms\n",
            "video 1/1 (149/181) /content/Fire-Smoke-and-Human-Detector-31/video /073593677_main_xxl.mp4: 384x640 3 humans, 6.8ms\n",
            "video 1/1 (150/181) /content/Fire-Smoke-and-Human-Detector-31/video /073593677_main_xxl.mp4: 384x640 3 humans, 7.0ms\n",
            "video 1/1 (151/181) /content/Fire-Smoke-and-Human-Detector-31/video /073593677_main_xxl.mp4: 384x640 3 humans, 7.7ms\n",
            "video 1/1 (152/181) /content/Fire-Smoke-and-Human-Detector-31/video /073593677_main_xxl.mp4: 384x640 3 humans, 7.0ms\n",
            "video 1/1 (153/181) /content/Fire-Smoke-and-Human-Detector-31/video /073593677_main_xxl.mp4: 384x640 3 humans, 7.4ms\n",
            "video 1/1 (154/181) /content/Fire-Smoke-and-Human-Detector-31/video /073593677_main_xxl.mp4: 384x640 3 humans, 8.0ms\n",
            "video 1/1 (155/181) /content/Fire-Smoke-and-Human-Detector-31/video /073593677_main_xxl.mp4: 384x640 3 humans, 6.9ms\n",
            "video 1/1 (156/181) /content/Fire-Smoke-and-Human-Detector-31/video /073593677_main_xxl.mp4: 384x640 2 humans, 7.4ms\n",
            "video 1/1 (157/181) /content/Fire-Smoke-and-Human-Detector-31/video /073593677_main_xxl.mp4: 384x640 2 humans, 7.2ms\n",
            "video 1/1 (158/181) /content/Fire-Smoke-and-Human-Detector-31/video /073593677_main_xxl.mp4: 384x640 2 humans, 7.5ms\n",
            "video 1/1 (159/181) /content/Fire-Smoke-and-Human-Detector-31/video /073593677_main_xxl.mp4: 384x640 2 humans, 8.0ms\n",
            "video 1/1 (160/181) /content/Fire-Smoke-and-Human-Detector-31/video /073593677_main_xxl.mp4: 384x640 2 humans, 8.4ms\n",
            "video 1/1 (161/181) /content/Fire-Smoke-and-Human-Detector-31/video /073593677_main_xxl.mp4: 384x640 2 humans, 7.1ms\n",
            "video 1/1 (162/181) /content/Fire-Smoke-and-Human-Detector-31/video /073593677_main_xxl.mp4: 384x640 2 humans, 9.0ms\n",
            "video 1/1 (163/181) /content/Fire-Smoke-and-Human-Detector-31/video /073593677_main_xxl.mp4: 384x640 3 humans, 7.3ms\n",
            "video 1/1 (164/181) /content/Fire-Smoke-and-Human-Detector-31/video /073593677_main_xxl.mp4: 384x640 3 humans, 8.0ms\n",
            "video 1/1 (165/181) /content/Fire-Smoke-and-Human-Detector-31/video /073593677_main_xxl.mp4: 384x640 3 humans, 9.8ms\n",
            "video 1/1 (166/181) /content/Fire-Smoke-and-Human-Detector-31/video /073593677_main_xxl.mp4: 384x640 3 humans, 9.6ms\n",
            "video 1/1 (167/181) /content/Fire-Smoke-and-Human-Detector-31/video /073593677_main_xxl.mp4: 384x640 3 humans, 7.4ms\n",
            "video 1/1 (168/181) /content/Fire-Smoke-and-Human-Detector-31/video /073593677_main_xxl.mp4: 384x640 3 humans, 8.7ms\n",
            "video 1/1 (169/181) /content/Fire-Smoke-and-Human-Detector-31/video /073593677_main_xxl.mp4: 384x640 3 humans, 7.2ms\n",
            "video 1/1 (170/181) /content/Fire-Smoke-and-Human-Detector-31/video /073593677_main_xxl.mp4: 384x640 3 humans, 7.1ms\n",
            "video 1/1 (171/181) /content/Fire-Smoke-and-Human-Detector-31/video /073593677_main_xxl.mp4: 384x640 2 humans, 7.2ms\n",
            "video 1/1 (172/181) /content/Fire-Smoke-and-Human-Detector-31/video /073593677_main_xxl.mp4: 384x640 3 humans, 7.5ms\n",
            "video 1/1 (173/181) /content/Fire-Smoke-and-Human-Detector-31/video /073593677_main_xxl.mp4: 384x640 3 humans, 7.8ms\n",
            "video 1/1 (174/181) /content/Fire-Smoke-and-Human-Detector-31/video /073593677_main_xxl.mp4: 384x640 2 humans, 6.9ms\n",
            "video 1/1 (175/181) /content/Fire-Smoke-and-Human-Detector-31/video /073593677_main_xxl.mp4: 384x640 1 human, 6.8ms\n",
            "video 1/1 (176/181) /content/Fire-Smoke-and-Human-Detector-31/video /073593677_main_xxl.mp4: 384x640 1 human, 6.9ms\n",
            "video 1/1 (177/181) /content/Fire-Smoke-and-Human-Detector-31/video /073593677_main_xxl.mp4: 384x640 1 human, 8.4ms\n",
            "video 1/1 (178/181) /content/Fire-Smoke-and-Human-Detector-31/video /073593677_main_xxl.mp4: 384x640 2 humans, 6.9ms\n",
            "video 1/1 (179/181) /content/Fire-Smoke-and-Human-Detector-31/video /073593677_main_xxl.mp4: 384x640 1 human, 7.1ms\n",
            "video 1/1 (180/181) /content/Fire-Smoke-and-Human-Detector-31/video /073593677_main_xxl.mp4: 384x640 2 humans, 9.6ms\n",
            "video 1/1 (181/181) /content/Fire-Smoke-and-Human-Detector-31/video /073593677_main_xxl.mp4: 384x640 2 humans, 6.8ms\n",
            "Speed: 2.5ms preprocess, 8.3ms inference, 1.9ms postprocess per image at shape (1, 3, 384, 640)\n",
            "Results saved to \u001b[1mruns/detect/predict3\u001b[0m\n"
          ]
        }
      ]
    }
  ]
}